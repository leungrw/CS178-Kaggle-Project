{
 "cells": [
  {
   "cell_type": "markdown",
   "metadata": {},
   "source": [
    "# CS 178 Project\n",
    "## Project Group 62\n",
    "### Suchita Gupta \n",
    "### Rachel Leung\n",
    "### Tinko Ng"
   ]
  },
  {
   "cell_type": "code",
   "execution_count": 1,
   "metadata": {},
   "outputs": [],
   "source": [
    "# Imports\n",
    "import numpy as np\n",
    "from sklearn import *\n",
    "import mltools as ml"
   ]
  },
  {
   "cell_type": "code",
   "execution_count": 2,
   "metadata": {},
   "outputs": [],
   "source": [
    "# Load the data\n",
    "X = np.genfromtxt('./X_train.txt', delimiter=',')\n",
    "Y = np.genfromtxt('./Y_train.txt', delimiter=',')\n",
    "X_test = np.genfromtxt('./X_test.txt', delimiter=',')\n",
    "X,Y = ml.shuffleData(X,Y)\n",
    "\n",
    "# partition training data X into training data and validation data of approx equal size (50%)\n",
    "Xtr,Xva,Ytr,Yva = ml.splitData(X,Y,0.75)"
   ]
  },
  {
   "cell_type": "code",
   "execution_count": 3,
   "metadata": {},
   "outputs": [
    {
     "name": "stdout",
     "output_type": "stream",
     "text": [
      "Training error: 0.42572301059816775\n",
      "Validation error: 0.4288793103448276\n"
     ]
    }
   ],
   "source": [
    "### Linear Regression ###\n",
    "# create a pipeline object\n",
    "pipe = pipeline.make_pipeline(linear_model.LogisticRegression(random_state=0, solver='liblinear'))\n",
    "pipe.fit(Xtr, Ytr)\n",
    "\n",
    "pipe.predict(Xtr)\n",
    "pipe.predict_proba(Xtr)\n",
    "print \"Training error:\", (1 - pipe.score(Xtr, Ytr))\n",
    "\n",
    "pipe.predict(Xva)\n",
    "pipe.predict_proba(Xva)\n",
    "print \"Validation error:\", (1 - pipe.score(Xva, Yva))"
   ]
  },
  {
   "cell_type": "code",
   "execution_count": 4,
   "metadata": {},
   "outputs": [],
   "source": [
    "# ## Polynomial Regression - Order 4 ###\n",
    "# poly = preprocessing.PolynomialFeatures(2)\n",
    "# print \"starting transform\"\n",
    "# Xtr_new = poly.fit_transform(Xtr, Ytr)\n",
    "# Xva_new = poly.fit_transform(Xva, Yva)\n",
    "# print \"transform completed\"\n",
    "# lm = linear_model.LogisticRegression(random_state=0, solver='liblinear')\n",
    "# lm.fit(Xtr_new, Ytr)\n",
    "# lm.predict(Xva_new)\n",
    "\n",
    "# print \"Training error:\", (1 - lm.score(Xtr_new, Ytr))\n",
    "\n",
    "\n"
   ]
  },
  {
   "cell_type": "code",
   "execution_count": 5,
   "metadata": {},
   "outputs": [],
   "source": [
    "# pipe2 = pipeline.make_pipeline(preprocessing.PolynomialFeatures(degree=2),\n",
    "#                                linear_model.LogisticRegression())\n",
    "# pipe2.fit(Xtr, Ytr)\n",
    "\n",
    "# # pipe2.predict(Xtr)\n",
    "# # pipe2.predict_proba(Xtr)\n",
    "# print \"Training error:\", (1 - pipe2.score(Xtr, Ytr))\n",
    "# print \"Validation error:\", (1 - pipe2.score(Xva, Yva))"
   ]
  },
  {
   "cell_type": "code",
   "execution_count": null,
   "metadata": {},
   "outputs": [
    {
     "name": "stdout",
     "output_type": "stream",
     "text": [
      "training started\n"
     ]
    },
    {
     "name": "stderr",
     "output_type": "stream",
     "text": [
      "/Users/suchitagupta/anaconda2/lib/python2.7/site-packages/sklearn/linear_model/logistic.py:433: FutureWarning: Default solver will be changed to 'lbfgs' in 0.22. Specify a solver to silence this warning.\n",
      "  FutureWarning)\n"
     ]
    }
   ],
   "source": [
    "### TO BE DELETED!!!! ###\n",
    "logistic_classifier = pipeline.Pipeline([\n",
    "    ('poly', preprocessing.PolynomialFeatures(degree=2, interaction_only=False)),\n",
    "    ('logistic', linear_model.LogisticRegression())])\n",
    "\n",
    "print(\"training started\")\n",
    "logistic_classifier.fit(Xtr, Ytr)\n",
    "print(\"training finished\")\n",
    "\n",
    "logistic_classifier_roc = metrics.roc_auc_score(Yva, logistic_classifier.predict_proba(Xva)[:,1])\n",
    "print(\"validation roc:\", logistic_classifier_roc)\n",
    "\n",
    "print(\"training error:\", 1 - logistic_classifier.score(Xtr, Ytr))\n",
    "print(\"validation error:\", 1 - logistic_classifier.score(Xva, Yva))"
   ]
  },
  {
   "cell_type": "code",
   "execution_count": null,
   "metadata": {},
   "outputs": [],
   "source": []
  }
 ],
 "metadata": {
  "kernelspec": {
   "display_name": "Python 2",
   "language": "python",
   "name": "python2"
  },
  "language_info": {
   "codemirror_mode": {
    "name": "ipython",
    "version": 2
   },
   "file_extension": ".py",
   "mimetype": "text/x-python",
   "name": "python",
   "nbconvert_exporter": "python",
   "pygments_lexer": "ipython2",
   "version": "2.7.16"
  }
 },
 "nbformat": 4,
 "nbformat_minor": 2
}
