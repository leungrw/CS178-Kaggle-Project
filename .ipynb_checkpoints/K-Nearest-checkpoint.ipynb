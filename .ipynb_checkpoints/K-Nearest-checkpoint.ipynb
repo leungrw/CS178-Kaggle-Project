{
 "cells": [
  {
   "cell_type": "code",
   "execution_count": 1,
   "metadata": {},
   "outputs": [],
   "source": [
    "import numpy as np\n",
    "from sklearn import *\n",
    "import mltools as ml\n",
    "from sklearn.model_selection import train_test_split\n",
    "from sklearn.metrics import classification_report\n",
    "np.random.seed(0)"
   ]
  },
  {
   "cell_type": "code",
   "execution_count": 2,
   "metadata": {},
   "outputs": [],
   "source": [
    "X = np.genfromtxt('./X_train.txt', delimiter=',')\n",
    "Y = np.genfromtxt('./Y_train.txt', delimiter=',')\n",
    "X_test = np.genfromtxt('./X_test.txt', delimiter=',')\n",
    "X,Y = ml.shuffleData(X,Y)\n",
    "Xtr,Xva,Ytr,Yva = ml.splitData(X,Y,0.75)"
   ]
  },
  {
   "cell_type": "code",
   "execution_count": 25,
   "metadata": {
    "scrolled": false
   },
   "outputs": [
    {
     "name": "stdout",
     "output_type": "stream",
     "text": [
      "KNN = 1\n",
      "training error:0.0\n",
      "validation error:0.4795258620689655\n",
      "\n",
      "KNN = 2\n",
      "training error:0.2534578767738459\n",
      "validation error:0.4876077586206896\n",
      "\n",
      "KNN = 3\n",
      "training error:0.24950601760373625\n",
      "validation error:0.4612068965517241\n",
      "\n",
      "KNN = 4\n",
      "training error:0.3055505658343812\n",
      "validation error:0.4698275862068966\n",
      "\n",
      "KNN = 5\n",
      "training error:0.3053709358721035\n",
      "validation error:0.46713362068965514\n",
      "\n",
      "KNN = 6\n",
      "training error:0.3330339500628705\n",
      "validation error:0.4735991379310345\n",
      "\n",
      "KNN = 7\n",
      "training error:0.3321358002514819\n",
      "validation error:0.45905172413793105\n",
      "\n",
      "KNN = 8\n",
      "training error:0.3490210167055865\n",
      "validation error:0.4660560344827587\n",
      "\n",
      "KNN = 9\n",
      "training error:0.3479432369319202\n",
      "validation error:0.4568965517241379\n",
      "\n",
      "KNN = 10\n",
      "training error:0.357283994970361\n",
      "validation error:0.4563577586206896\n",
      "\n",
      "KNN = 11\n",
      "training error:0.3605173342913598\n",
      "validation error:0.4498922413793104\n",
      "\n",
      "KNN = 12\n",
      "training error:0.3594395545176936\n",
      "validation error:0.4542025862068966\n",
      "\n",
      "KNN = 13\n",
      "training error:0.36482845338602476\n",
      "validation error:0.45096982758620685\n",
      "\n",
      "KNN = 14\n",
      "training error:0.37165439195257766\n",
      "validation error:0.44665948275862066\n",
      "\n",
      "KNN = 15\n",
      "training error:0.37273217172624395\n",
      "validation error:0.4482758620689655\n",
      "\n",
      "KNN = 16\n",
      "training error:0.38189329980240705\n",
      "validation error:0.44342672413793105\n",
      "\n",
      "KNN = 17\n",
      "training error:0.38063589006646303\n",
      "validation error:0.4558189655172413\n",
      "\n",
      "KNN = 18\n",
      "training error:0.38548589904796116\n",
      "validation error:0.44719827586206895\n",
      "\n",
      "KNN = 19\n",
      "training error:0.3869229387461829\n",
      "validation error:0.453125\n",
      "\n",
      "KNN = 20\n",
      "training error:0.38997664810490384\n",
      "validation error:0.44719827586206895\n",
      "\n"
     ]
    }
   ],
   "source": [
    "Error = []\n",
    "for i in range(1,21,1):\n",
    "    print(\"KNN = \"+ str(i))\n",
    "    knn = neighbors.KNeighborsClassifier(n_neighbors=i)\n",
    "    knn.fit(Xtr, Ytr)\n",
    "    knn_roc = metrics.roc_auc_score(Yva, knn.predict_proba(Xva)[:,1])\n",
    "    print(\"training error:\" + str(1 - knn.score(Xtr, Ytr)))\n",
    "    VaError=(1 - knn.score(Xva, Yva))\n",
    "    print(\"validation error:\" + str(VaError))\n",
    "    Error.append(VaError)\n",
    "    print(\"\")\n"
   ]
  },
  {
   "cell_type": "code",
   "execution_count": 26,
   "metadata": {},
   "outputs": [
    {
     "name": "stdout",
     "output_type": "stream",
     "text": [
      "[16, 14, 18, 18, 15, 11, 13, 19, 12, 17, 10, 9, 7, 3, 8, 5, 4, 6, 1, 2]\n",
      "\n",
      "[0.44342672413793105, 0.44665948275862066, 0.44719827586206895, 0.44719827586206895, 0.4482758620689655, 0.4498922413793104, 0.45096982758620685, 0.453125, 0.4542025862068966, 0.4558189655172413, 0.4563577586206896, 0.4568965517241379, 0.45905172413793105, 0.4612068965517241, 0.4660560344827587, 0.46713362068965514, 0.4698275862068966, 0.4735991379310345, 0.4795258620689655, 0.4876077586206896]\n"
     ]
    }
   ],
   "source": [
    "New_Errors = sorted(Error)\n",
    "SortedK =[]\n",
    "for i in New_Errors:\n",
    "    SortedK.append(Error.index(i)+1)\n",
    "print(SortedK)\n",
    "print(\"\")\n",
    "print(New_Errors)"
   ]
  },
  {
   "cell_type": "code",
   "execution_count": null,
   "metadata": {},
   "outputs": [],
   "source": []
  }
 ],
 "metadata": {
  "kernelspec": {
   "display_name": "Python 2",
   "language": "python",
   "name": "python2"
  },
  "language_info": {
   "codemirror_mode": {
    "name": "ipython",
    "version": 2
   },
   "file_extension": ".py",
   "mimetype": "text/x-python",
   "name": "python",
   "nbconvert_exporter": "python",
   "pygments_lexer": "ipython2",
   "version": "2.7.16"
  }
 },
 "nbformat": 4,
 "nbformat_minor": 2
}
