{
 "cells": [
  {
   "cell_type": "markdown",
   "metadata": {},
   "source": [
    "# CS 178 Project\n",
    "## Project Group 62\n",
    "### Suchita Gupta \n",
    "### Rachel Leung\n",
    "### Tinko Ng"
   ]
  },
  {
   "cell_type": "code",
   "execution_count": 2,
   "metadata": {},
   "outputs": [],
   "source": [
    "# Imports\n",
    "import numpy as np\n",
    "from sklearn import *\n",
    "import mltools as ml\n",
    "import time"
   ]
  },
  {
   "cell_type": "code",
   "execution_count": 3,
   "metadata": {},
   "outputs": [],
   "source": [
    "# Load the data\n",
    "X = np.genfromtxt('./X_train.txt', delimiter=',')\n",
    "Y = np.genfromtxt('./Y_train.txt', delimiter=',')\n",
    "X_test = np.genfromtxt('./X_test.txt', delimiter=',')\n",
    "\n",
    "### TO BE DELETD!!! ###\n",
    "x_data = X\n",
    "y_data = Y\n",
    "\n",
    "X,Y = ml.shuffleData(X,Y)\n",
    "\n",
    "# partition training data X into training data and validation data of approx equal size (50%)\n",
    "Xtr,Xva,Ytr,Yva = ml.splitData(X,Y,0.75)"
   ]
  },
  {
   "cell_type": "code",
   "execution_count": 4,
   "metadata": {},
   "outputs": [
    {
     "name": "stdout",
     "output_type": "stream",
     "text": [
      "Training error: 0.4066822345967307\n",
      "Validation error: 0.4294181034482759\n"
     ]
    }
   ],
   "source": [
    "### Linear Regression ###\n",
    "# create a pipeline object\n",
    "pipe = pipeline.make_pipeline(linear_model.LogisticRegression(random_state=0, solver='liblinear'))\n",
    "pipe.fit(Xtr, Ytr)\n",
    "\n",
    "pipe.predict(Xtr)\n",
    "pipe.predict_proba(Xtr)\n",
    "print \"Training error:\", (1 - pipe.score(Xtr, Ytr))\n",
    "\n",
    "pipe.predict(Xva)\n",
    "pipe.predict_proba(Xva)\n",
    "print \"Validation error:\", (1 - pipe.score(Xva, Yva))"
   ]
  },
  {
   "cell_type": "code",
   "execution_count": null,
   "metadata": {},
   "outputs": [
    {
     "name": "stdout",
     "output_type": "stream",
     "text": [
      "degree:  1\n",
      "\t...fitting started at 18:18:31\n",
      "\t...fitting done at 18:18:32\n",
      "\tROC_AUC: 0.5825541698599597\n",
      "\tTraining error: 0.40847853421950786\n",
      "\tValidation error: 0.4267241379310345\n",
      "degree:  2\n",
      "\t...fitting started at 18:18:32\n"
     ]
    },
    {
     "name": "stderr",
     "output_type": "stream",
     "text": [
      "/Users/suchitagupta/anaconda2/lib/python2.7/site-packages/sklearn/svm/base.py:931: ConvergenceWarning: Liblinear failed to converge, increase the number of iterations.\n",
      "  \"the number of iterations.\", ConvergenceWarning)\n"
     ]
    },
    {
     "name": "stdout",
     "output_type": "stream",
     "text": [
      "\t...fitting done at 18:20:59\n",
      "\tROC_AUC: 0.562302886736803\n",
      "\tTraining error: 0.4086581641817856\n",
      "\tValidation error: 0.44719827586206895\n",
      "degree:  3\n",
      "\t...fitting started at 18:21:00\n",
      "\t...fitting done at 19:11:18\n",
      "\tROC_AUC: 0.5466116259086369\n",
      "\tTraining error: 0.4190767019938926\n",
      "\tValidation error: 0.4682112068965517\n",
      "degree:  4\n",
      "\t...fitting started at 19:12:14\n"
     ]
    }
   ],
   "source": [
    "### OUR CODE ###\n",
    "poly_degrees = [1, 2, 3, 4]\n",
    "for poly_degree in poly_degrees:\n",
    "    print \"degree: \", poly_degree\n",
    "\n",
    "    pipe2 = pipeline.make_pipeline(preprocessing.PolynomialFeatures(degree=poly_degree),\n",
    "                                   linear_model.LogisticRegression(solver='liblinear'))\n",
    "\n",
    "    print \"\\t...fitting started at\", time.strftime(\"%H:%M:%S\", time.localtime())\n",
    "    pipe2.fit(Xtr, Ytr)\n",
    "    print \"\\t...fitting done at\", time.strftime(\"%H:%M:%S\", time.localtime())\n",
    "\n",
    "    roc_auc = metrics.roc_auc_score(Yva, pipe2.predict_proba(Xva)[:,1])\n",
    "    print \"\\tROC_AUC:\", roc_auc\n",
    "\n",
    "    print \"\\tTraining error:\", (1 - pipe2.score(Xtr, Ytr))\n",
    "    print \"\\tValidation error:\", (1 - pipe2.score(Xva, Yva))"
   ]
  },
  {
   "cell_type": "code",
   "execution_count": null,
   "metadata": {},
   "outputs": [
    {
     "name": "stdout",
     "output_type": "stream",
     "text": [
      "degree:  4\n",
      "\t...fitting started at 19:48:31\n"
     ]
    }
   ],
   "source": [
    "poly_degree = 4\n",
    "print \"degree: \", poly_degree\n",
    "\n",
    "pipe2 = pipeline.make_pipeline(preprocessing.PolynomialFeatures(degree=poly_degree),\n",
    "                               linear_model.LogisticRegression(solver='liblinear'))\n",
    "\n",
    "print \"\\t...fitting started at\", time.strftime(\"%H:%M:%S\", time.localtime())\n",
    "pipe2.fit(Xtr, Ytr)\n",
    "print \"\\t...fitting done at\", time.strftime(\"%H:%M:%S\", time.localtime())\n",
    "\n",
    "roc_auc = metrics.roc_auc_score(Yva, pipe2.predict_proba(Xva)[:,1])\n",
    "print \"\\tROC_AUC:\", roc_auc\n",
    "\n",
    "print \"\\tTraining error:\", (1 - pipe2.score(Xtr, Ytr))\n",
    "print \"\\tValidation error:\", (1 - pipe2.score(Xva, Yva))"
   ]
  },
  {
   "cell_type": "code",
   "execution_count": null,
   "metadata": {},
   "outputs": [],
   "source": []
  }
 ],
 "metadata": {
  "kernelspec": {
   "display_name": "Python 2",
   "language": "python",
   "name": "python2"
  },
  "language_info": {
   "codemirror_mode": {
    "name": "ipython",
    "version": 2
   },
   "file_extension": ".py",
   "mimetype": "text/x-python",
   "name": "python",
   "nbconvert_exporter": "python",
   "pygments_lexer": "ipython2",
   "version": "2.7.16"
  }
 },
 "nbformat": 4,
 "nbformat_minor": 2
}
