{
 "cells": [
  {
   "cell_type": "code",
   "execution_count": 1,
   "metadata": {
    "scrolled": true
   },
   "outputs": [],
   "source": [
    "import numpy as np\n",
    "from sklearn import *\n",
    "import mltools as ml\n",
    "import matplotlib.pyplot as plt\n",
    "np.random.seed(0)"
   ]
  },
  {
   "cell_type": "code",
   "execution_count": 2,
   "metadata": {
    "scrolled": true
   },
   "outputs": [],
   "source": [
    "X = np.genfromtxt('./X_train.txt', delimiter=',')\n",
    "Y = np.genfromtxt('./Y_train.txt', delimiter=',')\n",
    "X_test = np.genfromtxt('./X_test.txt', delimiter=',')\n",
    "X,Y = ml.shuffleData(X,Y)\n",
    "Xtr,Xva,Ytr,Yva = ml.splitData(X,Y,0.75)"
   ]
  },
  {
   "cell_type": "code",
   "execution_count": 3,
   "metadata": {},
   "outputs": [
    {
     "name": "stdout",
     "output_type": "stream",
     "text": [
      "learning_rates: 1\n",
      "training error: 0.08855757140290998\n",
      "validation error: 0.36476293103448276\n",
      "Roc: 0.6793845617905768\n",
      "\n",
      "learning_rates: 0.5\n",
      "training error: 0.1140650260463445\n",
      "validation error: 0.3545258620689655\n",
      "Roc: 0.7098243678694807\n",
      "\n",
      "learning_rates: 0.25\n",
      "training error: 0.17082809412610023\n",
      "validation error: 0.34967672413793105\n",
      "Roc: 0.7294533631375737\n",
      "\n",
      "learning_rates: 0.1\n",
      "training error: 0.2394467397161847\n",
      "validation error: 0.3313577586206896\n",
      "Roc: 0.7437512700670594\n",
      "\n",
      "learning_rates: 0.05\n",
      "training error: 0.2881264594934435\n",
      "validation error: 0.3351293103448276\n",
      "Roc: 0.7470897320521381\n",
      "\n",
      "learning_rates: 0.01\n",
      "training error: 0.34524878749775467\n",
      "validation error: 0.35290948275862066\n",
      "Roc: 0.7409562516329433\n",
      "\n",
      "Minimum Validation Error: 0.3313577586206896 at learning_rate of: 0.1\n"
     ]
    }
   ],
   "source": [
    "#validation error is not constant, but approximatly close enough to tell which is the best\n",
    "learning_rates = [1, 0.5, 0.25, 0.1, 0.05, 0.01]\n",
    "learning_TrErrors = []\n",
    "learning_VaErrors = []\n",
    "for i in learning_rates:\n",
    "    gradient_boost = ensemble.GradientBoostingClassifier(learning_rate=i)\n",
    "    gradient_boost.fit(Xtr,Ytr)\n",
    "    print(\"learning_rates: \" + str(i))\n",
    "    TrError = 1-(gradient_boost.score(Xtr, Ytr))\n",
    "    learning_TrErrors.append(TrError)\n",
    "    VaError = 1-(gradient_boost.score(Xva, Yva))\n",
    "    learning_VaErrors.append(VaError)\n",
    "    print(\"training error: \" + str(TrError))\n",
    "    print(\"validation error: \" + str(VaError))\n",
    "    gradient_boost_roc = metrics.roc_auc_score(Yva, gradient_boost.predict_proba(Xva)[:,1])\n",
    "    print(\"Roc: \" + str(gradient_boost_roc))\n",
    "    print(\"\")\n",
    "print(\"Minimum Validation Error: \" +  str(min(learning_VaErrors)) +\n",
    "      \" at learning_rate of: \" + str(learning_rates[learning_VaErrors.index(min(learning_VaErrors))]))"
   ]
  },
  {
   "cell_type": "code",
   "execution_count": 4,
   "metadata": {
    "scrolled": false
   },
   "outputs": [
    {
     "name": "stdout",
     "output_type": "stream",
     "text": [
      "n_estimators: 10\n",
      "training error: 0.34722471708280944\n",
      "validation error: 0.3469827586206896\n",
      "Roc: 0.7404412575841147\n",
      "\n",
      "n_estimators: 20\n",
      "training error: 0.32530986168492904\n",
      "validation error: 0.3448275862068966\n",
      "Roc: 0.7442912300055158\n",
      "\n",
      "n_estimators: 30\n",
      "training error: 0.3120172444763787\n",
      "validation error: 0.3469827586206896\n",
      "Roc: 0.7463750108862892\n",
      "\n",
      "n_estimators: 40\n",
      "training error: 0.3005209268906054\n",
      "validation error: 0.3405172413793104\n",
      "Roc: 0.7474160304235491\n",
      "\n",
      "n_estimators: 50\n",
      "training error: 0.28740793964433264\n",
      "validation error: 0.33782327586206895\n",
      "Roc: 0.7459354951084275\n",
      "\n",
      "n_estimators: 60\n",
      "training error: 0.27375606251122686\n",
      "validation error: 0.33459051724137934\n",
      "Roc: 0.7468569106163092\n",
      "\n",
      "n_estimators: 70\n",
      "training error: 0.2663912340578408\n",
      "validation error: 0.3286637931034483\n",
      "Roc: 0.745648677678753\n",
      "\n",
      "n_estimators: 80\n",
      "training error: 0.25866714567989946\n",
      "validation error: 0.3313577586206896\n",
      "Roc: 0.7463581734258427\n",
      "\n",
      "n_estimators: 90\n",
      "training error: 0.2487874977546255\n",
      "validation error: 0.3329741379310345\n",
      "Roc: 0.7446035939269021\n",
      "\n",
      "n_estimators: 100\n",
      "training error: 0.2394467397161847\n",
      "validation error: 0.3308189655172413\n",
      "Roc: 0.7439138386506807\n",
      "\n",
      "Minimum Validation Error: 0.3286637931034483 at n_estimator of: 70\n"
     ]
    }
   ],
   "source": [
    "n_estimators = range(10,110,10)\n",
    "n_estimators_VaErrors=[]\n",
    "n_estimators_TrErrors=[]\n",
    "for i in range(len(n_estimators)):\n",
    "    gradient_boost = ensemble.GradientBoostingClassifier(learning_rate=0.1,n_estimators=n_estimators[i])\n",
    "    gradient_boost.fit(Xtr,Ytr)\n",
    "    print(\"n_estimators: \"+ str(n_estimators[i]))\n",
    "    TrError = 1-(gradient_boost.score(Xtr, Ytr))\n",
    "    n_estimators_TrErrors.append(TrError)\n",
    "    VaError=(1 - gradient_boost.score(Xva, Yva))\n",
    "    n_estimators_VaErrors.append(VaError)\n",
    "    print(\"training error: \" + str(TrError))\n",
    "    print(\"validation error: \" + str(VaError))\n",
    "    gradient_boost_roc = metrics.roc_auc_score(Yva, gradient_boost.predict_proba(Xva)[:,1])\n",
    "    print(\"Roc: \" + str(gradient_boost_roc))\n",
    "    print(\"\")\n",
    "print(\"Minimum Validation Error: \" +  str(min(n_estimators_VaErrors)) + \n",
    "      \" at n_estimator of: \" + str(n_estimators[n_estimators_VaErrors.index(min(n_estimators_VaErrors))]))"
   ]
  },
  {
   "cell_type": "code",
   "execution_count": 5,
   "metadata": {
    "scrolled": false
   },
   "outputs": [
    {
     "name": "stdout",
     "output_type": "stream",
     "text": [
      "depth: 1\n",
      "training error: 0.34955990659241964\n",
      "validation error: 0.35721982758620685\n",
      "Roc: 0.7277347809678637\n",
      "\n",
      "depth: 2\n",
      "training error: 0.31866355308065386\n",
      "validation error: 0.3475215517241379\n",
      "Roc: 0.7467251139431591\n",
      "\n",
      "depth: 3\n",
      "training error: 0.2663912340578408\n",
      "validation error: 0.3286637931034483\n",
      "Roc: 0.745589456266148\n",
      "\n",
      "depth: 4\n",
      "training error: 0.20711334650619728\n",
      "validation error: 0.3399784482758621\n",
      "Roc: 0.7399134902894301\n",
      "\n",
      "depth: 5\n",
      "training error: 0.15735584695527216\n",
      "validation error: 0.3475215517241379\n",
      "Roc: 0.7295996748628328\n",
      "\n",
      "depth: 6\n",
      "training error: 0.08137237291180166\n",
      "validation error: 0.34913793103448276\n",
      "Roc: 0.7304636107643626\n",
      "\n",
      "depth: 7\n",
      "training error: 0.03951859170109573\n",
      "validation error: 0.34375\n",
      "Roc: 0.72944755711673\n",
      "\n",
      "depth: 8\n",
      "training error: 0.014190767019938932\n",
      "validation error: 0.34159482758620685\n",
      "Roc: 0.7281597816936163\n",
      "\n",
      "depth: 9\n",
      "training error: 0.003233339320998785\n",
      "validation error: 0.34913793103448276\n",
      "Roc: 0.7149208929660058\n",
      "\n",
      "depth: 10\n",
      "training error: 0.0\n",
      "validation error: 0.35344827586206895\n",
      "Roc: 0.720788457630563\n",
      "\n",
      "Minimum Validation Error: 0.3286637931034483 at max_depth of: 3\n"
     ]
    }
   ],
   "source": [
    "# the validation errors aren't constant, but the difference between the depth values are big enough on average it\n",
    "# doesn't matter \n",
    "depths = range(1,11,1)\n",
    "depth_TrErrors =[]\n",
    "depth_VaErrors =[]\n",
    "for d in depths:\n",
    "    gradient_boost = ensemble.GradientBoostingClassifier(learning_rate=0.1, n_estimators= 70, max_depth=d)\n",
    "    gradient_boost.fit(Xtr,Ytr)\n",
    "    print(\"depth: \" + str(d))\n",
    "    TrError = 1-(gradient_boost.score(Xtr, Ytr))\n",
    "    depth_TrErrors.append(TrError)\n",
    "    VaError = 1-(gradient_boost.score(Xva, Yva))\n",
    "    depth_VaErrors.append(VaError)\n",
    "    print(\"training error: \" + str(TrError))\n",
    "    print(\"validation error: \" + str(VaError))\n",
    "    gradient_boost_roc = metrics.roc_auc_score(Yva, gradient_boost.predict_proba(Xva)[:,1])\n",
    "    print(\"Roc: \" + str(gradient_boost_roc))\n",
    "    print(\"\")\n",
    "print(\"Minimum Validation Error: \" +  str(min(depth_VaErrors)) + \n",
    "      \" at max_depth of: \" + str(depths[depth_VaErrors.index(min(depth_VaErrors))]))"
   ]
  },
  {
   "cell_type": "code",
   "execution_count": 6,
   "metadata": {
    "scrolled": false
   },
   "outputs": [],
   "source": [
    "nodes = range(2, 32, 2)\n",
    "node_TrErrors =[0]*len(nodes)\n",
    "node_VaErrors =[0]*len(nodes)\n",
    "for i in range(10):\n",
    "    for n in range(len(nodes)):\n",
    "        gradient_boost = ensemble.GradientBoostingClassifier(learning_rate=0.1, n_estimators= 70, max_depth= 3, \n",
    "                                                             max_leaf_nodes=nodes[n])\n",
    "        gradient_boost.fit(Xtr,Ytr)\n",
    "        TrError = 1-(gradient_boost.score(Xtr, Ytr))\n",
    "        node_TrErrors[n] = node_TrErrors[n] + TrError\n",
    "        VaError = 1-(gradient_boost.score(Xva, Yva))\n",
    "        node_VaErrors[n] = node_VaErrors[n] + VaError\n",
    "        gradient_boost_roc = metrics.roc_auc_score(Yva, gradient_boost.predict_proba(Xva)[:,1])"
   ]
  },
  {
   "cell_type": "code",
   "execution_count": 7,
   "metadata": {},
   "outputs": [
    {
     "name": "stdout",
     "output_type": "stream",
     "text": [
      "max_leaf_nodes: 2\n",
      "training error: 0.3495599065924196\n",
      "validation error: 0.35721982758620685\n",
      "\n",
      "max_leaf_nodes: 4\n",
      "training error: 0.3084246452308244\n",
      "validation error: 0.33890086206896547\n",
      "\n",
      "max_leaf_nodes: 6\n",
      "training error: 0.27698940183222565\n",
      "validation error: 0.34428879310344834\n",
      "\n",
      "max_leaf_nodes: 8\n",
      "training error: 0.2504041674151249\n",
      "validation error: 0.33243534482758624\n",
      "\n",
      "max_leaf_nodes: 10\n",
      "training error: 0.2326208011496318\n",
      "validation error: 0.3360991379310345\n",
      "\n",
      "max_leaf_nodes: 12\n",
      "training error: 0.2155559547332495\n",
      "validation error: 0.33911637931034483\n",
      "\n",
      "max_leaf_nodes: 14\n",
      "training error: 0.20657445661936413\n",
      "validation error: 0.3367995689655172\n",
      "\n",
      "max_leaf_nodes: 16\n",
      "training error: 0.20716723549488053\n",
      "validation error: 0.3413793103448276\n",
      "\n",
      "max_leaf_nodes: 18\n",
      "training error: 0.20786779234776365\n",
      "validation error: 0.3423491379310345\n",
      "\n",
      "max_leaf_nodes: 20\n",
      "training error: 0.20670019759295855\n",
      "validation error: 0.33992456896551726\n",
      "\n",
      "max_leaf_nodes: 22\n",
      "training error: 0.20671816058918627\n",
      "validation error: 0.34154094827586207\n",
      "\n",
      "max_leaf_nodes: 24\n",
      "training error: 0.20594575175139215\n",
      "validation error: 0.33917025862068967\n",
      "\n",
      "max_leaf_nodes: 26\n",
      "training error: 0.20687982755523623\n",
      "validation error: 0.3374461206896552\n",
      "\n",
      "max_leaf_nodes: 28\n",
      "training error: 0.20653853062690858\n",
      "validation error: 0.34105603448275856\n",
      "\n",
      "max_leaf_nodes: 30\n",
      "training error: 0.20790371834021917\n",
      "validation error: 0.3405172413793104\n",
      "\n",
      "Minimum Validation Error: 0.33243534482758624 at max_leaf_nodes of: 8\n"
     ]
    }
   ],
   "source": [
    "for n in range(len(node_TrErrors)):\n",
    "    node_TrErrors[n] = node_TrErrors[n]/10\n",
    "    node_VaErrors[n] = node_VaErrors[n]/10\n",
    "    print(\"max_leaf_nodes: \" + str(nodes[n]))\n",
    "    print(\"training error: \" + str(node_TrErrors[n]))\n",
    "    print(\"validation error: \" + str(node_VaErrors[n]))\n",
    "    print(\"\")\n",
    "print(\"Minimum Validation Error: \" +  str(min(node_VaErrors)) + \n",
    "      \" at max_leaf_nodes of: \" + str(nodes[node_VaErrors.index(min(node_VaErrors))]))"
   ]
  },
  {
   "cell_type": "markdown",
   "metadata": {},
   "source": [
    "Best parameters based on Validation error:<br>\n",
    "&emsp;learning_rate = 0.1<br>\n",
    "&emsp;n_estimators = 70<br>\n",
    "&emsp;max_depth = 3<br>\n",
    "&emsp;max_leaf_nodes = 8"
   ]
  },
  {
   "cell_type": "code",
   "execution_count": 8,
   "metadata": {},
   "outputs": [
    {
     "name": "stdout",
     "output_type": "stream",
     "text": [
      "GradientBoostingClassifier(criterion='friedman_mse', init=None,\n",
      "              learning_rate=0.1, loss='deviance', max_depth=3,\n",
      "              max_features=None, max_leaf_nodes=8,\n",
      "              min_impurity_decrease=0.0, min_impurity_split=None,\n",
      "              min_samples_leaf=1, min_samples_split=2,\n",
      "              min_weight_fraction_leaf=0.0, n_estimators=70,\n",
      "              n_iter_no_change=None, presort='auto', random_state=None,\n",
      "              subsample=1.0, tol=0.0001, validation_fraction=0.1,\n",
      "              verbose=0, warm_start=False)\n",
      "Training error: 0.25040416741512483\n",
      "Validation error: 0.3324353448275862\n",
      "Roc: 0.7455122361889279\n"
     ]
    }
   ],
   "source": [
    "gradient_boost = ensemble.GradientBoostingClassifier(learning_rate=0.1, n_estimators=70, max_depth=3, max_leaf_nodes=8)\n",
    "gradient_boost.fit(Xtr,Ytr)\n",
    "print(gradient_boost)\n",
    "gradient_boost_roc = metrics.roc_auc_score(Yva, gradient_boost.predict_proba(Xva)[:,1])\n",
    "print(\"Training error: \" + str(1-(gradient_boost.score(Xtr, Ytr))))\n",
    "print(\"Validation error: \" + str(1-(gradient_boost.score(Xva, Yva))))\n",
    "print(\"Roc: \" + str(gradient_boost_roc))"
   ]
  }
 ],
 "metadata": {
  "kernelspec": {
   "display_name": "Python 2",
   "language": "python",
   "name": "python2"
  },
  "language_info": {
   "codemirror_mode": {
    "name": "ipython",
    "version": 2
   },
   "file_extension": ".py",
   "mimetype": "text/x-python",
   "name": "python",
   "nbconvert_exporter": "python",
   "pygments_lexer": "ipython2",
   "version": "2.7.16"
  }
 },
 "nbformat": 4,
 "nbformat_minor": 2
}
