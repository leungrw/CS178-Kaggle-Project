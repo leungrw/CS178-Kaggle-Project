{
 "cells": [
  {
   "cell_type": "code",
   "execution_count": 20,
   "metadata": {
    "scrolled": false
   },
   "outputs": [],
   "source": [
    "import numpy as np\n",
    "from sklearn import *\n",
    "import mltools as ml\n",
    "import matplotlib.pyplot as plt\n",
    "np.random.seed(0)"
   ]
  },
  {
   "cell_type": "code",
   "execution_count": 9,
   "metadata": {
    "scrolled": false
   },
   "outputs": [],
   "source": [
    "X = np.genfromtxt('./X_train.txt', delimiter=',')\n",
    "Y = np.genfromtxt('./Y_train.txt', delimiter=',')\n",
    "X_test = np.genfromtxt('./X_test.txt', delimiter=',')\n",
    "X,Y = ml.shuffleData(X,Y)\n",
    "Xtr,Xva,Ytr,Yva = ml.splitData(X,Y,0.75)"
   ]
  },
  {
   "cell_type": "markdown",
   "metadata": {},
   "source": [
    "n_estimators more means more accurate by computing takes longer as predictions are made with a larger amount of votes"
   ]
  },
  {
   "cell_type": "code",
   "execution_count": 120,
   "metadata": {
    "scrolled": true
   },
   "outputs": [],
   "source": [
    "n_estimators = range(100,1100,100)\n",
    "n_estimators_VaErrors=[0]*len(n_estimators)\n",
    "for each in range(11):\n",
    "    for i in range(len(n_estimators)):\n",
    "        random_forest = ensemble.RandomForestClassifier(n_estimators=n_estimators[i])\n",
    "        random_forest.fit(Xtr,Ytr)\n",
    "#         print(\"n_estimators: \"+ str(n_estimators[i]))\n",
    "        VaError=(1 - random_forest.score(Xva, Yva))\n",
    "        n_estimators_VaErrors[i]= n_estimators_VaErrors[i] + VaError\n",
    "#         print(\"validation error:\" + str(VaError))\n",
    "#         print(\"\")"
   ]
  },
  {
   "cell_type": "code",
   "execution_count": 140,
   "metadata": {
    "scrolled": false
   },
   "outputs": [
    {
     "name": "stdout",
     "output_type": "stream",
     "text": [
      "n_estimators: 100\n",
      "Validation Error: 3.738146551724138\n",
      "\n",
      "n_estimators: 200\n",
      "Validation Error: 3.689655172413793\n",
      "\n",
      "n_estimators: 300\n",
      "Validation Error: 3.639547413793104\n",
      "\n",
      "n_estimators: 400\n",
      "Validation Error: 3.6174568965517233\n",
      "\n",
      "n_estimators: 500\n",
      "Validation Error: 3.655172413793103\n",
      "\n",
      "n_estimators: 600\n",
      "Validation Error: 3.616918103448276\n",
      "\n",
      "n_estimators: 700\n",
      "Validation Error: 3.6578663793103443\n",
      "\n",
      "n_estimators: 800\n",
      "Validation Error: 3.6476293103448274\n",
      "\n",
      "n_estimators: 900\n",
      "Validation Error: 3.6443965517241383\n",
      "\n",
      "n_estimators: 1000\n",
      "Validation Error: 3.637392241379311\n",
      "\n"
     ]
    },
    {
     "data": {
      "image/png": "[encoded data removed]",
      "text/plain": [
       "<Figure size 432x288 with 1 Axes>"
      ]
     },
     "metadata": {},
     "output_type": "display_data"
    },
    {
     "name": "stdout",
     "output_type": "stream",
     "text": [
      "Minimum Validation Error: 3.616918103448276 at n_estimator of: 600\n"
     ]
    }
   ],
   "source": [
    "for i in range(len(n_estimators_VaErrors)):\n",
    "    print (\"n_estimators: \" + str(n_estimators[i]))\n",
    "    VaErrors[i] = VaErrors[i]/10\n",
    "    print(\"Validation Error: \" + str(n_estimators_VaErrors[i])+\"\\n\")\n",
    "plt.plot(n_estimators, n_estimators_VaErrors, color='blue')\n",
    "plt.show()\n",
    "print(\"Minimum Validation Error: \" +  str(min(n_estimators_VaErrors)) + \n",
    "      \" at n_estimator of: \" + str(n_estimators[n_estimators_VaErrors.index(min(n_estimators_VaErrors))]))"
   ]
  },
  {
   "cell_type": "code",
   "execution_count": 149,
   "metadata": {
    "scrolled": true
   },
   "outputs": [],
   "source": [
    "# didn't apply n_estimators to reduce runtime\n",
    "leaves = range(10,210,10)\n",
    "VaErrors=[0]*len(leaves)\n",
    "TrErrors=[0]*len(leaves)\n",
    "for i in range(11):\n",
    "    for leaf in range(len(leaves)):\n",
    "        random_forest = ensemble.RandomForestClassifier(min_samples_leaf=leaves[leaf])\n",
    "        random_forest.fit(Xtr,Ytr)\n",
    "#         print(\"min_samples_leaf: \"+ str(leaf))\n",
    "        trError = 1 - random_forest.score(Xtr, Ytr)\n",
    "        TrErrors[leaf]=TrErrors[leaf] + trError\n",
    "#         print(\"training error:\" + str(trError))\n",
    "        VaError=(1 - random_forest.score(Xva, Yva))\n",
    "        VaErrors[leaf] = VaErrors[leaf] + VaError\n",
    "#         print(\"validation error:\" + str(VaError))\n",
    "#         print(\"\")"
   ]
  },
  {
   "cell_type": "code",
   "execution_count": 150,
   "metadata": {
    "scrolled": false
   },
   "outputs": [
    {
     "name": "stdout",
     "output_type": "stream",
     "text": [
      "min_samples_leaf: 10\n",
      "Traing Errors: 0.1591162205855937\n",
      "Validation Errors: 0.394073275862069\n",
      "\n",
      "min_samples_leaf: 20\n",
      "Traing Errors: 0.23411172983653666\n",
      "Validation Errors: 0.38415948275862066\n",
      "\n",
      "min_samples_leaf: 30\n",
      "Traing Errors: 0.273199209628166\n",
      "Validation Errors: 0.3912176724137931\n",
      "\n",
      "min_samples_leaf: 40\n",
      "Traing Errors: 0.2951859170109575\n",
      "Validation Errors: 0.3983297413793103\n",
      "\n",
      "min_samples_leaf: 50\n",
      "Traing Errors: 0.3102389078498294\n",
      "Validation Errors: 0.3895474137931035\n",
      "\n",
      "min_samples_leaf: 60\n",
      "Traing Errors: 0.32615412250763426\n",
      "Validation Errors: 0.3838900862068966\n",
      "\n",
      "min_samples_leaf: 70\n",
      "Traing Errors: 0.3332674690138315\n",
      "Validation Errors: 0.3900323275862069\n",
      "\n",
      "min_samples_leaf: 80\n",
      "Traing Errors: 0.33718340219148557\n",
      "Validation Errors: 0.38890086206896557\n",
      "\n",
      "min_samples_leaf: 90\n",
      "Traing Errors: 0.34501526854679365\n",
      "Validation Errors: 0.38723060344827587\n",
      "\n",
      "min_samples_leaf: 100\n",
      "Traing Errors: 0.3523621340039519\n",
      "Validation Errors: 0.3892241379310345\n",
      "\n",
      "min_samples_leaf: 110\n",
      "Traing Errors: 0.36154122507634273\n",
      "Validation Errors: 0.3925107758620689\n",
      "\n",
      "min_samples_leaf: 120\n",
      "Traing Errors: 0.3652236393030357\n",
      "Validation Errors: 0.3971443965517242\n",
      "\n",
      "min_samples_leaf: 130\n",
      "Traing Errors: 0.3609125202083707\n",
      "Validation Errors: 0.39251077586206895\n",
      "\n",
      "min_samples_leaf: 140\n",
      "Traing Errors: 0.3696425363750674\n",
      "Validation Errors: 0.39719827586206896\n",
      "\n",
      "min_samples_leaf: 150\n",
      "Traing Errors: 0.36761271780132926\n",
      "Validation Errors: 0.39310344827586213\n",
      "\n",
      "min_samples_leaf: 160\n",
      "Traing Errors: 0.37303754266211603\n",
      "Validation Errors: 0.3960668103448276\n",
      "\n",
      "min_samples_leaf: 170\n",
      "Traing Errors: 0.38103107598347413\n",
      "Validation Errors: 0.3982758620689655\n",
      "\n",
      "min_samples_leaf: 180\n",
      "Traing Errors: 0.3795581102927968\n",
      "Validation Errors: 0.3941271551724138\n",
      "\n",
      "min_samples_leaf: 190\n",
      "Traing Errors: 0.37433087839051554\n",
      "Validation Errors: 0.39321120689655176\n",
      "\n",
      "min_samples_leaf: 200\n",
      "Traing Errors: 0.38571941799892223\n",
      "Validation Errors: 0.40452586206896557\n",
      "\n"
     ]
    },
    {
     "data": {
      "image/png": "[encoded data removed]",
      "text/plain": [
       "<Figure size 432x288 with 1 Axes>"
      ]
     },
     "metadata": {},
     "output_type": "display_data"
    },
    {
     "name": "stdout",
     "output_type": "stream",
     "text": [
      "Minimum Validation Error: 0.3838900862068966 at n_estimator of: 60\n"
     ]
    }
   ],
   "source": [
    "for i in range(len(leaves)):\n",
    "    print(\"min_samples_leaf: \" + str(leaves[i]))\n",
    "    TrErrors[i] = TrErrors[i]/10\n",
    "    VaErrors[i] = VaErrors[i]/10\n",
    "    print(\"Traing Errors: \" + str(TrErrors[i]))\n",
    "    print(\"Validation Errors: \" + str(VaErrors[i]))\n",
    "    print(\"\")\n",
    "plt.plot(leaves, TrErrors, color='blue')\n",
    "plt.plot(leaves, VaErrors, color ='red')\n",
    "plt.show()\n",
    "print(\"Minimum Validation Error: \" +  str(min(VaErrors)) + \n",
    "      \" at n_estimator of: \" + str(leaves[VaErrors.index(min(VaErrors))]))\n",
    "\n",
    "# I get a about 60-80 after running multiple times but mostly 60"
   ]
  },
  {
   "cell_type": "code",
   "execution_count": null,
   "metadata": {
    "scrolled": false
   },
   "outputs": [],
   "source": []
  }
 ],
 "metadata": {
  "kernelspec": {
   "display_name": "Python 2",
   "language": "python",
   "name": "python2"
  },
  "language_info": {
   "codemirror_mode": {
    "name": "ipython",
    "version": 2
   },
   "file_extension": ".py",
   "mimetype": "text/x-python",
   "name": "python",
   "nbconvert_exporter": "python",
   "pygments_lexer": "ipython2",
   "version": "2.7.16"
  }
 },
 "nbformat": 4,
 "nbformat_minor": 2
}
