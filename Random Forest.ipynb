{
 "cells": [
  {
   "cell_type": "code",
   "execution_count": 1,
   "metadata": {
    "scrolled": false
   },
   "outputs": [],
   "source": [
    "import numpy as np\n",
    "from sklearn import *\n",
    "import mltools as ml\n",
    "import matplotlib.pyplot as plt\n",
    "np.random.seed(0)"
   ]
  },
  {
   "cell_type": "code",
   "execution_count": 2,
   "metadata": {
    "scrolled": false
   },
   "outputs": [],
   "source": [
    "X = np.genfromtxt('./X_train.txt', delimiter=',')\n",
    "Y = np.genfromtxt('./Y_train.txt', delimiter=',')\n",
    "X_test = np.genfromtxt('./X_test.txt', delimiter=',')\n",
    "X,Y = ml.shuffleData(X,Y)\n",
    "Xtr,Xva,Ytr,Yva = ml.splitData(X,Y,0.75)"
   ]
  },
  {
   "cell_type": "markdown",
   "metadata": {},
   "source": [
    "n_estimators more means more accurate by computing takes longer as predictions are made with a larger amount of votes"
   ]
  },
  {
   "cell_type": "code",
   "execution_count": null,
   "metadata": {
    "scrolled": true
   },
   "outputs": [],
   "source": [
    "n_estimators = range(100,1100,100)\n",
    "n_estimators_VaErrors=[0]*len(n_estimators)\n",
    "for each in range(21):\n",
    "    for i in range(len(n_estimators)):\n",
    "        random_forest = ensemble.RandomForestClassifier(n_estimators=n_estimators[i])\n",
    "        random_forest.fit(Xtr,Ytr)\n",
    "#         print(\"n_estimators: \"+ str(n_estimators[i]))\n",
    "        VaError=(1 - random_forest.score(Xva, Yva))\n",
    "        n_estimators_VaErrors[i]= n_estimators_VaErrors[i] + VaError\n",
    "#         print(\"validation error:\" + str(VaError))\n",
    "#         print(\"\")"
   ]
  },
  {
   "cell_type": "code",
   "execution_count": null,
   "metadata": {
    "scrolled": false
   },
   "outputs": [],
   "source": [
    "for i in range(len(n_estimators_VaErrors)):\n",
    "    print (\"n_estimators: \" + str(n_estimators[i]))\n",
    "    n_estimators_VaErrors[i] = n_estimators_VaErrors[i]/20\n",
    "    print(\"Validation Error: \" + str(n_estimators_VaErrors[i])+\"\\n\")\n",
    "plt.plot(n_estimators, n_estimators_VaErrors, color='blue')\n",
    "plt.show()\n",
    "print(\"Minimum Validation Error: \" +  str(min(n_estimators_VaErrors)) + \n",
    "      \" at n_estimator of: \" + str(n_estimators[n_estimators_VaErrors.index(min(n_estimators_VaErrors))]))"
   ]
  },
  {
   "cell_type": "code",
   "execution_count": null,
   "metadata": {
    "scrolled": true
   },
   "outputs": [],
   "source": [
    "# didn't apply n_estimators to reduce runtime\n",
    "leaves = range(10,210,10)\n",
    "VaErrors=[0]*len(leaves)\n",
    "TrErrors=[0]*len(leaves)\n",
    "for i in range(11):\n",
    "    for leaf in range(len(leaves)):\n",
    "        random_forest = ensemble.RandomForestClassifier(min_samples_leaf=leaves[leaf])\n",
    "        random_forest.fit(Xtr,Ytr)\n",
    "#         print(\"min_samples_leaf: \"+ str(leaf))\n",
    "        trError = 1 - random_forest.score(Xtr, Ytr)\n",
    "        TrErrors[leaf]=TrErrors[leaf] + trError\n",
    "#         print(\"training error:\" + str(trError))\n",
    "        VaError=(1 - random_forest.score(Xva, Yva))\n",
    "        VaErrors[leaf] = VaErrors[leaf] + VaError\n",
    "#         print(\"validation error:\" + str(VaError))\n",
    "#         print(\"\")"
   ]
  },
  {
   "cell_type": "code",
   "execution_count": null,
   "metadata": {
    "scrolled": false
   },
   "outputs": [],
   "source": [
    "for i in range(len(leaves)):\n",
    "    print(\"min_samples_leaf: \" + str(leaves[i]))\n",
    "    TrErrors[i] = TrErrors[i]/10\n",
    "    VaErrors[i] = VaErrors[i]/10\n",
    "    print(\"Traing Errors: \" + str(TrErrors[i]))\n",
    "    print(\"Validation Errors: \" + str(VaErrors[i]))\n",
    "    print(\"\")\n",
    "plt.plot(leaves, TrErrors, color='blue')\n",
    "plt.plot(leaves, VaErrors, color ='red')\n",
    "plt.show()\n",
    "print(\"Minimum Validation Error: \" +  str(min(VaErrors)) + \n",
    "      \" at n_estimator of: \" + str(leaves[VaErrors.index(min(VaErrors))]))\n",
    "\n",
    "# I get a about 60-80 after running multiple times but mostly 60"
   ]
  },
  {
   "cell_type": "code",
   "execution_count": null,
   "metadata": {
    "scrolled": false
   },
   "outputs": [],
   "source": []
  }
 ],
 "metadata": {
  "kernelspec": {
   "display_name": "Python 2",
   "language": "python",
   "name": "python2"
  },
  "language_info": {
   "codemirror_mode": {
    "name": "ipython",
    "version": 2
   },
   "file_extension": ".py",
   "mimetype": "text/x-python",
   "name": "python",
   "nbconvert_exporter": "python",
   "pygments_lexer": "ipython2",
   "version": "2.7.16"
  }
 },
 "nbformat": 4,
 "nbformat_minor": 2
}
